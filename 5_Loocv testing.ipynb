{
 "cells": [
  {
   "cell_type": "code",
   "execution_count": 1,
   "metadata": {},
   "outputs": [
    {
     "name": "stderr",
     "output_type": "stream",
     "text": [
      "Using TensorFlow backend.\n"
     ]
    }
   ],
   "source": [
    "import matplotlib.pyplot as plt\n",
    "import pickle\n",
    "import pandas as pd\n",
    "import numpy as np\n",
    "import xgboost\n",
    "import re\n",
    "from xgboost import XGBClassifier\n",
    "from sklearn.model_selection import RandomizedSearchCV, GridSearchCV\n",
    "from sklearn.model_selection import StratifiedKFold\n",
    "from sklearn.model_selection import train_test_split\n",
    "from sklearn.preprocessing import MinMaxScaler\n",
    "\n",
    "from sklearn.ensemble import RandomForestClassifier\n",
    "from sklearn.model_selection import GridSearchCV\n",
    "from sklearn.metrics import f1_score\n",
    "from sklearn.metrics import make_scorer\n",
    "from sklearn.metrics import confusion_matrix\n",
    "import warnings\n",
    "warnings.filterwarnings(\"ignore\")\n",
    "from imblearn.over_sampling import SMOTE\n",
    "from sklearn.feature_selection import RFECV\n",
    "from sklearn.ensemble import VotingClassifier\n",
    "\n",
    "from statsmodels.stats.outliers_influence import variance_inflation_factor\n",
    "from sklearn.model_selection import LeaveOneOut"
   ]
  },
  {
   "cell_type": "code",
   "execution_count": 2,
   "metadata": {},
   "outputs": [],
   "source": [
    "combined_data=pickle.load( open(\\\n",
    "    \"D:/Projects/Prognostic Predictions/Proccessed data/final_data.pickle\", \"rb\" ) )\n"
   ]
  },
  {
   "cell_type": "code",
   "execution_count": 3,
   "metadata": {},
   "outputs": [],
   "source": [
    "combined_data.to_csv(\"Final_data_set.csv\",index=False)"
   ]
  },
  {
   "cell_type": "code",
   "execution_count": 12,
   "metadata": {},
   "outputs": [],
   "source": [
    "\n",
    "def my_custom_loss_func(y_true, y_pred):\n",
    "    threshold=0.98\n",
    "    fpr=1\n",
    "    print(y_pred)\n",
    "    while fpr>0.009 and threshold<1:\n",
    "        threshold+=0.01\n",
    "        y_pred  = (y_pred  >= threshold).astype('int')\n",
    "        if y_pred==y_true:\n",
    "            return 0\n",
    "        elif y_pred==1:\n",
    "            return -10\n",
    "        elif y_pred==0:\n",
    "            return -1\n",
    "    return 0"
   ]
  },
  {
   "cell_type": "code",
   "execution_count": 13,
   "metadata": {},
   "outputs": [],
   "source": [
    "from tqdm import tqdm\n",
    "def model_iterations_loocv(model,param_grid):\n",
    "    ksm = SMOTE(random_state=42)\n",
    "    y_pred_list=[]\n",
    "    loo_hyper_parameter_selection = LeaveOneOut()\n",
    "    loo_testing = LeaveOneOut()\n",
    "    y_index=[]\n",
    "    X=combined_data.drop(columns=[\"PID\",\"outcome\"]).values\n",
    "    Y=combined_data[\"outcome\"].values\n",
    "    loo_testing.get_n_splits(X)\n",
    "    mm=MinMaxScaler()\n",
    "#      include hyper selection\n",
    "    \n",
    "    for train_index, test_index in tqdm(loo_testing.split(X)):\n",
    "        \n",
    "        X_train,X_test,Y_train,Y_test=X[train_index],X[test_index],Y[train_index],Y[test_index]\n",
    "#         print(np.unique(Y_train))\n",
    "            \n",
    "        estimator=model\n",
    "        random_search = RandomizedSearchCV(estimator, param_distributions=param_grid, n_iter=20, \n",
    "#                                            scoring='roc_auc',\n",
    "                                           scoring=make_scorer(my_custom_loss_func,needs_proba=True),\n",
    "                                           n_jobs=-1, cv=loo_hyper_parameter_selection.split(X_train,Y_train),\n",
    "                                           random_state=42)\n",
    "        random_search.fit(X_train, Y_train)\n",
    "        best_model = random_search.best_estimator_\n",
    "#         print(best_model)\n",
    "        best_model.fit(X_train, Y_train)\n",
    "#         X_train,Y_train=ksm.fit_resample(X_train, Y_train)\n",
    "#         X_train=mm.fit_transform(X_train)\n",
    "#         X_test=mm.fit_transform(X_test)\n",
    "        \n",
    "        y_pred=best_model.predict_proba(X_test)\n",
    "        y_pred=(y_pred[:,1]>=0.99).astype('int')\n",
    "        y_pred_list.append(y_pred[0])\n",
    "        y_index.append(test_index[0])   \n",
    "    return y_pred_list,y_index\n"
   ]
  },
  {
   "cell_type": "code",
   "execution_count": 16,
   "metadata": {},
   "outputs": [],
   "source": [
    "model=XGBClassifier(random_state=42)\n",
    "\n",
    "param_grid = {\n",
    "#         'tree_method':['gpu_hist'],  #### include if you have a gpu compatible version of XGBOOST\n",
    "        'reg_lambda':[0.5,0.8],\n",
    "        'min_child_weight': [ 5, 10],\n",
    "        'gamma': [0.1,0.5],\n",
    "#         'subsample': [0.6, 0.8, 1.0],\n",
    "        'colsample_bytree': [0.2],\n",
    "        'learning_rate':[0.3,0.5],\n",
    "        'max_depth': [ 4,8],\n",
    "        'random_state':[42],\n",
    "        'scale_pos_weight':[0.8],\"n_jobs\":[-1]\n",
    "        }\n",
    "\n",
    "\n",
    "\n",
    "output=model_iterations_loocv(model,param_grid)\n",
    "y_pred,y_test_index=output\n",
    "Y_test=combined_data[\"outcome\"].values\n",
    "tn, fp, fn, tp=confusion_matrix(Y_test.flatten()[y_test_index], y_pred).ravel()\n",
    "fpr=fp/(fp+tn)\n",
    "tpr=tp/(tp+fn)\n",
    "print(\"TPR:\", tpr)\n",
    "print(\"FPR:\",fpr)\n",
    "y_test_index=np.array(y_test_index)\n",
    "y_test_index[Y_test.flatten()[y_test_index]!= y_pred]\n",
    "Y_test.flatten()[Y_test.flatten()[y_test_index]!= y_pred]"
   ]
  }
 ],
 "metadata": {
  "kernelspec": {
   "display_name": "Python 3",
   "language": "python",
   "name": "python3"
  },
  "language_info": {
   "codemirror_mode": {
    "name": "ipython",
    "version": 3
   },
   "file_extension": ".py",
   "mimetype": "text/x-python",
   "name": "python",
   "nbconvert_exporter": "python",
   "pygments_lexer": "ipython3",
   "version": "3.7.7"
  }
 },
 "nbformat": 4,
 "nbformat_minor": 4
}
